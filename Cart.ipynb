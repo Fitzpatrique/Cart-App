{
  "nbformat": 4,
  "nbformat_minor": 0,
  "metadata": {
    "colab": {
      "name": "Cart.ipynb",
      "provenance": [],
      "collapsed_sections": [],
      "authorship_tag": "ABX9TyNJXI6J8ysqbvFVbXvssEnc",
      "include_colab_link": true
    },
    "kernelspec": {
      "name": "python3",
      "display_name": "Python 3"
    },
    "language_info": {
      "name": "python"
    }
  },
  "cells": [
    {
      "cell_type": "markdown",
      "metadata": {
        "id": "view-in-github",
        "colab_type": "text"
      },
      "source": [
        "<a href=\"https://colab.research.google.com/github/Fitzpatrique/Cart-App/blob/main/Cart.ipynb\" target=\"_parent\"><img src=\"https://colab.research.google.com/assets/colab-badge.svg\" alt=\"Open In Colab\"/></a>"
      ]
    },
    {
      "cell_type": "code",
      "metadata": {
        "id": "WZ5XcQqNHkYN"
      },
      "source": [
        "import pandas as pd"
      ],
      "execution_count": 1,
      "outputs": []
    },
    {
      "cell_type": "code",
      "metadata": {
        "id": "I-M71SJlc8o9"
      },
      "source": [
        "cart = {\n",
        "    'Product Name':[],\n",
        "    'Price':[],\n",
        "    'Item Count':[],\n",
        "    'Total Price':[]\n",
        "}"
      ],
      "execution_count": 2,
      "outputs": []
    },
    {
      "cell_type": "code",
      "metadata": {
        "id": "bkMpOT04eA2-"
      },
      "source": [
        "cart_df = pd.DataFrame(cart,index=None)"
      ],
      "execution_count": 3,
      "outputs": []
    },
    {
      "cell_type": "code",
      "metadata": {
        "colab": {
          "base_uri": "https://localhost:8080/",
          "height": 49
        },
        "id": "zPmIy5pmetq6",
        "outputId": "1521da7f-e916-4ec2-d5fa-3fd883ba4f4f"
      },
      "source": [
        "cart_df"
      ],
      "execution_count": 4,
      "outputs": [
        {
          "output_type": "execute_result",
          "data": {
            "text/html": [
              "<div>\n",
              "<style scoped>\n",
              "    .dataframe tbody tr th:only-of-type {\n",
              "        vertical-align: middle;\n",
              "    }\n",
              "\n",
              "    .dataframe tbody tr th {\n",
              "        vertical-align: top;\n",
              "    }\n",
              "\n",
              "    .dataframe thead th {\n",
              "        text-align: right;\n",
              "    }\n",
              "</style>\n",
              "<table border=\"1\" class=\"dataframe\">\n",
              "  <thead>\n",
              "    <tr style=\"text-align: right;\">\n",
              "      <th></th>\n",
              "      <th>Product Name</th>\n",
              "      <th>Price</th>\n",
              "      <th>Item Count</th>\n",
              "      <th>Total Price</th>\n",
              "    </tr>\n",
              "  </thead>\n",
              "  <tbody>\n",
              "  </tbody>\n",
              "</table>\n",
              "</div>"
            ],
            "text/plain": [
              "Empty DataFrame\n",
              "Columns: [Product Name, Price, Item Count, Total Price]\n",
              "Index: []"
            ]
          },
          "metadata": {
            "tags": []
          },
          "execution_count": 4
        }
      ]
    },
    {
      "cell_type": "code",
      "metadata": {
        "id": "lNwi0bOIewfz"
      },
      "source": [
        "product_list = {\n",
        "\t'jumi':{\n",
        "\t\t'price': 99999,'color':['Default'], 'src': 'jumi bed.jpg'\n",
        "\t},\n",
        "\t'jumi prime':{\n",
        "\t\t'price': 59999,'color':['Default'], 'src': 'jumi prime bed.jpg'\n",
        "\t},\n",
        "\t'ada':{\n",
        "\t\t'price': 150000,'color':['grey','yellow','blue','green','beige'], 'src': 'ada 2.jpg'\n",
        "\t},\n",
        "\t'amakisi duo wardrobe':{\n",
        "\t\t'price': 150000,'color':['default'], 'src': 'wardrobe.jpg'\n",
        "\t},\n",
        "\t'amakisi single wardrobe':{\n",
        "\t\t'price': 89999,'color':['default'], 'src': 'wardrobe.jpg'\n",
        "\t},\n",
        "\t'seyi 6-seater':{\n",
        "\t\t'price': 349999,'color':['default'], 'src': 'seyi-6-seater-sofa-sofas-28998819217568.jpg'\n",
        "\t},\n",
        "\t'alausa':{\n",
        "\t\t'price': 249999,'color':['grey','yellow','blue','green','beige'], 'src': 'alausa.jpg'\n",
        "\t},\n",
        "\t'amakisi':{\n",
        "\t\t'price': 34999,'color':['black','white'], 'src': 'amakisi table.jpg'\n",
        "\t},\n",
        "\t'amakisi drawer':{\n",
        "\t\t'price': 44999,'color':['black','white'], 'src': 'amakisi table with drawer.jpg'\n",
        "\t},\n",
        "\t'femi':{\n",
        "\t\t'price': 44999,'color':['grey','yellow','blue','green','beige'], 'src': 'femi.jpg'\n",
        "\t},\n",
        "\t'segun':{\n",
        "\t\t'price': 39999,'color':['default'], 'src': 'segun.jpg'\n",
        "\t},\n",
        "\t'amakisi duo':{\n",
        "\t\t'price': 89999,'color':['default'], 'src': 'amakisi duo.jpg'\n",
        "\t},\n",
        "\t'amakisi prime':{\n",
        "\t\t'price': 49999,'color':['default'], 'src': 'amakisi-prime-sofas-29001262006432.jpg'\n",
        "\t},\n",
        "\t'bosun':{\n",
        "\t\t'price': 90000,'color':['default'], 'src': 'bosun.jpg'\n",
        "\t},\n",
        "\t'amakisi vip':{\n",
        "\t\t'price': 69999,'color':['default'], 'src': 'amakisi vip table.jpg'\n",
        "\t},\n",
        "\t'amakisi table with Chair':{\n",
        "\t\t'price': 59999,'color':['default'], 'src': 'amakisi vip table.jpg'\n",
        "\t},\n",
        "\t'kemi combo':{\n",
        "\t\t'price': 279999,'color':['default'], 'src': 'amakisi vip table.jpg'\n",
        "\t},\n",
        "\t'segun combo':{\n",
        "\t\t'price': 54999,'color':['default'], 'src': 'amakisi vip table.jpg'\n",
        "\t},\n",
        "\t'alausa combo':{\n",
        "\t\t'price': 3499999,'color':['default'], 'src': 'amakisi vip table.jpg'\n",
        "\t},\n",
        "}"
      ],
      "execution_count": 5,
      "outputs": []
    },
    {
      "cell_type": "code",
      "metadata": {
        "id": "rqJIV8bPfHSB"
      },
      "source": [
        "def addCart(name,price,item):\n",
        "  global cart_df\n",
        "  new_row = {'Product Name': name, 'Price': price, 'Item Count': item, 'Total Price': price*item}\n",
        "  cart_df = cart_df.append(new_row, ignore_index=True)\n",
        "  print(cart_df)\n",
        "\n",
        "def removeCart(product):\n",
        "  global cart_df\n",
        "  if product in list(cart_df['Product Name']):\n",
        "    cart_df.set_index('Product Name', inplace=True)\n",
        "    cart_df.drop(product,inplace=True)\n",
        "    cart_df.reset_index(inplace=True)\n",
        "    print(cart_df)\n",
        "\n",
        "def clearCart():\n",
        "  global cart_df\n",
        "  for i in range(cart_df.count()['Product Name']):\n",
        "    cart_df.drop(labels=i, axis=0, inplace=True)\n",
        "    print(cart_df)"
      ],
      "execution_count": 6,
      "outputs": []
    },
    {
      "cell_type": "code",
      "metadata": {
        "colab": {
          "base_uri": "https://localhost:8080/"
        },
        "id": "s4u7vHMnmKg_",
        "outputId": "f8ae3e0a-a5f0-4329-fe3b-c2e0557b247c"
      },
      "source": [
        "product_list.keys()"
      ],
      "execution_count": 7,
      "outputs": [
        {
          "output_type": "execute_result",
          "data": {
            "text/plain": [
              "dict_keys(['jumi', 'jumi prime', 'ada', 'amakisi duo wardrobe', 'amakisi single wardrobe', 'seyi 6-seater', 'alausa', 'amakisi', 'amakisi drawer', 'femi', 'segun', 'amakisi duo', 'amakisi prime', 'bosun', 'amakisi vip', 'amakisi table with Chair', 'kemi combo', 'segun combo', 'alausa combo'])"
            ]
          },
          "metadata": {
            "tags": []
          },
          "execution_count": 7
        }
      ]
    },
    {
      "cell_type": "code",
      "metadata": {
        "id": "QW0iC4PCn46f",
        "colab": {
          "base_uri": "https://localhost:8080/"
        },
        "outputId": "c1ba4b4d-cc50-4fe3-943e-42eea734e9af"
      },
      "source": [
        "name = input('Enter Product Name: ')\n",
        "if name in product_list.keys():\n",
        "  price = product_list[name]['price']\n",
        "  \n",
        "else:\n",
        "  name = input('Name not found; enter product name: ')\n",
        "\n",
        "item = int(input('Enter number of items: '))"
      ],
      "execution_count": 13,
      "outputs": [
        {
          "output_type": "stream",
          "text": [
            "Enter Product Name: bosun\n",
            "Enter number of items: 6\n"
          ],
          "name": "stdout"
        }
      ]
    },
    {
      "cell_type": "code",
      "metadata": {
        "id": "85fN9MZOeIii",
        "colab": {
          "base_uri": "https://localhost:8080/"
        },
        "outputId": "12cf8537-0bba-43e3-dd4e-6c0b323d8faa"
      },
      "source": [
        "addCart(name,price,item)"
      ],
      "execution_count": 14,
      "outputs": [
        {
          "output_type": "stream",
          "text": [
            "  Product Name     Price  Item Count  Total Price\n",
            "0         jumi   99999.0         3.0     299997.0\n",
            "1          ada  150000.0         2.0     300000.0\n",
            "2        bosun   90000.0         6.0     540000.0\n"
          ],
          "name": "stdout"
        }
      ]
    },
    {
      "cell_type": "code",
      "metadata": {
        "colab": {
          "base_uri": "https://localhost:8080/"
        },
        "id": "_gTcVSGawwkU",
        "outputId": "836c1a6a-27fe-4265-b1d8-1373043db0bc"
      },
      "source": [
        "print('Total price: ', sum(cart_df['Total Price']))\n",
        "print('Total item count: ', sum(cart_df['Item Count']))"
      ],
      "execution_count": 21,
      "outputs": [
        {
          "output_type": "stream",
          "text": [
            "Total price:  0\n",
            "Total item count:  0\n"
          ],
          "name": "stdout"
        }
      ]
    },
    {
      "cell_type": "code",
      "metadata": {
        "colab": {
          "base_uri": "https://localhost:8080/",
          "height": 80
        },
        "id": "bzH9gnoMl6UM",
        "outputId": "105cd9bb-3aab-477e-a63b-72b5b72ed79c"
      },
      "source": [
        "cart_df[cart_df['Product Name'] == 'jumi']"
      ],
      "execution_count": 17,
      "outputs": [
        {
          "output_type": "execute_result",
          "data": {
            "text/html": [
              "<div>\n",
              "<style scoped>\n",
              "    .dataframe tbody tr th:only-of-type {\n",
              "        vertical-align: middle;\n",
              "    }\n",
              "\n",
              "    .dataframe tbody tr th {\n",
              "        vertical-align: top;\n",
              "    }\n",
              "\n",
              "    .dataframe thead th {\n",
              "        text-align: right;\n",
              "    }\n",
              "</style>\n",
              "<table border=\"1\" class=\"dataframe\">\n",
              "  <thead>\n",
              "    <tr style=\"text-align: right;\">\n",
              "      <th></th>\n",
              "      <th>Product Name</th>\n",
              "      <th>Price</th>\n",
              "      <th>Item Count</th>\n",
              "      <th>Total Price</th>\n",
              "    </tr>\n",
              "  </thead>\n",
              "  <tbody>\n",
              "    <tr>\n",
              "      <th>0</th>\n",
              "      <td>jumi</td>\n",
              "      <td>99999.0</td>\n",
              "      <td>3.0</td>\n",
              "      <td>299997.0</td>\n",
              "    </tr>\n",
              "  </tbody>\n",
              "</table>\n",
              "</div>"
            ],
            "text/plain": [
              "  Product Name    Price  Item Count  Total Price\n",
              "0         jumi  99999.0         3.0     299997.0"
            ]
          },
          "metadata": {
            "tags": []
          },
          "execution_count": 17
        }
      ]
    },
    {
      "cell_type": "code",
      "metadata": {
        "colab": {
          "base_uri": "https://localhost:8080/"
        },
        "id": "3nyhFbIRpyFr",
        "outputId": "450a16e6-17ad-4a51-ffc6-e5712140f82d"
      },
      "source": [
        "removeCart('jumi')"
      ],
      "execution_count": 18,
      "outputs": [
        {
          "output_type": "stream",
          "text": [
            "  Product Name     Price  Item Count  Total Price\n",
            "0          ada  150000.0         2.0     300000.0\n",
            "1        bosun   90000.0         6.0     540000.0\n"
          ],
          "name": "stdout"
        }
      ]
    },
    {
      "cell_type": "code",
      "metadata": {
        "colab": {
          "base_uri": "https://localhost:8080/"
        },
        "id": "1b0gKaaxg0Dk",
        "outputId": "a3ff8477-8b72-462a-fa8c-63afba648cce"
      },
      "source": [
        "clearCart()"
      ],
      "execution_count": 20,
      "outputs": [
        {
          "output_type": "stream",
          "text": [
            "  Product Name    Price  Item Count  Total Price\n",
            "1        bosun  90000.0         6.0     540000.0\n",
            "Empty DataFrame\n",
            "Columns: [Product Name, Price, Item Count, Total Price]\n",
            "Index: []\n"
          ],
          "name": "stdout"
        }
      ]
    },
    {
      "cell_type": "code",
      "metadata": {
        "id": "iUnpPbCqjxzI",
        "colab": {
          "base_uri": "https://localhost:8080/",
          "height": 49
        },
        "outputId": "2bc18dc0-ddba-456b-e051-b8e2c21f276b"
      },
      "source": [
        "cart_df"
      ],
      "execution_count": 22,
      "outputs": [
        {
          "output_type": "execute_result",
          "data": {
            "text/html": [
              "<div>\n",
              "<style scoped>\n",
              "    .dataframe tbody tr th:only-of-type {\n",
              "        vertical-align: middle;\n",
              "    }\n",
              "\n",
              "    .dataframe tbody tr th {\n",
              "        vertical-align: top;\n",
              "    }\n",
              "\n",
              "    .dataframe thead th {\n",
              "        text-align: right;\n",
              "    }\n",
              "</style>\n",
              "<table border=\"1\" class=\"dataframe\">\n",
              "  <thead>\n",
              "    <tr style=\"text-align: right;\">\n",
              "      <th></th>\n",
              "      <th>Product Name</th>\n",
              "      <th>Price</th>\n",
              "      <th>Item Count</th>\n",
              "      <th>Total Price</th>\n",
              "    </tr>\n",
              "  </thead>\n",
              "  <tbody>\n",
              "  </tbody>\n",
              "</table>\n",
              "</div>"
            ],
            "text/plain": [
              "Empty DataFrame\n",
              "Columns: [Product Name, Price, Item Count, Total Price]\n",
              "Index: []"
            ]
          },
          "metadata": {
            "tags": []
          },
          "execution_count": 22
        }
      ]
    },
    {
      "cell_type": "code",
      "metadata": {
        "id": "S2nYPUOsmUyz"
      },
      "source": [
        ""
      ],
      "execution_count": 72,
      "outputs": []
    },
    {
      "cell_type": "code",
      "metadata": {
        "id": "_EyWEehksZHt"
      },
      "source": [
        ""
      ],
      "execution_count": null,
      "outputs": []
    }
  ]
}